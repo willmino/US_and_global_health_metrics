{
 "cells": [
  {
   "cell_type": "code",
   "execution_count": 1,
   "id": "77b177b3",
   "metadata": {},
   "outputs": [],
   "source": [
    "# Initial imports.\n",
    "import pandas as pd\n",
    "from sklearn.ensemble import RandomForestRegressor\n",
    "from sklearn.linear_model import Lasso\n",
    "from sklearn.preprocessing import StandardScaler\n",
    "from sklearn.model_selection import train_test_split\n",
    "from sklearn.metrics import confusion_matrix, accuracy_score, classification_report"
   ]
  },
  {
   "cell_type": "code",
   "execution_count": 2,
   "id": "4eb36ee8",
   "metadata": {},
   "outputs": [
    {
     "data": {
      "text/html": [
       "<div>\n",
       "<style scoped>\n",
       "    .dataframe tbody tr th:only-of-type {\n",
       "        vertical-align: middle;\n",
       "    }\n",
       "\n",
       "    .dataframe tbody tr th {\n",
       "        vertical-align: top;\n",
       "    }\n",
       "\n",
       "    .dataframe thead th {\n",
       "        text-align: right;\n",
       "    }\n",
       "</style>\n",
       "<table border=\"1\" class=\"dataframe\">\n",
       "  <thead>\n",
       "    <tr style=\"text-align: right;\">\n",
       "      <th></th>\n",
       "      <th>latitude</th>\n",
       "      <th>longitude</th>\n",
       "      <th>GEOID</th>\n",
       "      <th>County_State</th>\n",
       "      <th>closest_plant</th>\n",
       "      <th>distance</th>\n",
       "      <th>plant_capacity</th>\n",
       "      <th>County</th>\n",
       "      <th>cardio_death</th>\n",
       "      <th>total_cancer</th>\n",
       "      <th>...</th>\n",
       "      <th>pediatric_asthma</th>\n",
       "      <th>adult_asthma</th>\n",
       "      <th>COPD</th>\n",
       "      <th>adult_chronic_lung_disease</th>\n",
       "      <th>pediatric_asthma_per_100k</th>\n",
       "      <th>adult_asthma_per_100k</th>\n",
       "      <th>COPD_per_100k</th>\n",
       "      <th>cardio_death_per_100k</th>\n",
       "      <th>adult_chronic_lung_disease_per_100k</th>\n",
       "      <th>cap_over_d2</th>\n",
       "    </tr>\n",
       "  </thead>\n",
       "  <tbody>\n",
       "    <tr>\n",
       "      <th>0</th>\n",
       "      <td>32.534920</td>\n",
       "      <td>-86.642749</td>\n",
       "      <td>01001</td>\n",
       "      <td>Autauga County, Alabama</td>\n",
       "      <td>Joseph M. Farley Nuclear Plant</td>\n",
       "      <td>128.0</td>\n",
       "      <td>1776.4</td>\n",
       "      <td>Autauga, Alabama</td>\n",
       "      <td>263.9</td>\n",
       "      <td>506.4</td>\n",
       "      <td>...</td>\n",
       "      <td>1718.0</td>\n",
       "      <td>3906.0</td>\n",
       "      <td>4274.0</td>\n",
       "      <td>8657.0</td>\n",
       "      <td>3059.934099</td>\n",
       "      <td>6956.986375</td>\n",
       "      <td>7612.432095</td>\n",
       "      <td>470.032950</td>\n",
       "      <td>15419.004364</td>\n",
       "      <td>0.108423</td>\n",
       "    </tr>\n",
       "    <tr>\n",
       "      <th>1</th>\n",
       "      <td>30.660970</td>\n",
       "      <td>-87.749840</td>\n",
       "      <td>01003</td>\n",
       "      <td>Baldwin County, Alabama</td>\n",
       "      <td>Joseph M. Farley Nuclear Plant</td>\n",
       "      <td>161.0</td>\n",
       "      <td>1776.4</td>\n",
       "      <td>Baldwin, Alabama</td>\n",
       "      <td>241.9</td>\n",
       "      <td>455.7</td>\n",
       "      <td>...</td>\n",
       "      <td>6393.0</td>\n",
       "      <td>16246.0</td>\n",
       "      <td>19461.0</td>\n",
       "      <td>36546.0</td>\n",
       "      <td>2788.208664</td>\n",
       "      <td>7085.443135</td>\n",
       "      <td>8487.615957</td>\n",
       "      <td>105.500966</td>\n",
       "      <td>15938.976043</td>\n",
       "      <td>0.068531</td>\n",
       "    </tr>\n",
       "    <tr>\n",
       "      <th>2</th>\n",
       "      <td>31.869603</td>\n",
       "      <td>-85.393197</td>\n",
       "      <td>01005</td>\n",
       "      <td>Barbour County, Alabama</td>\n",
       "      <td>Joseph M. Farley Nuclear Plant</td>\n",
       "      <td>48.0</td>\n",
       "      <td>1776.4</td>\n",
       "      <td>Barbour, Alabama</td>\n",
       "      <td>351.2</td>\n",
       "      <td>447.2</td>\n",
       "      <td>...</td>\n",
       "      <td>664.0</td>\n",
       "      <td>1760.0</td>\n",
       "      <td>2001.0</td>\n",
       "      <td>3855.0</td>\n",
       "      <td>2700.394485</td>\n",
       "      <td>7157.672130</td>\n",
       "      <td>8137.785188</td>\n",
       "      <td>1428.280939</td>\n",
       "      <td>15677.742080</td>\n",
       "      <td>0.771007</td>\n",
       "    </tr>\n",
       "    <tr>\n",
       "      <th>3</th>\n",
       "      <td>32.998644</td>\n",
       "      <td>-87.126439</td>\n",
       "      <td>01007</td>\n",
       "      <td>Bibb County, Alabama</td>\n",
       "      <td>Browns Ferry Nuclear Plant</td>\n",
       "      <td>118.0</td>\n",
       "      <td>3567.5</td>\n",
       "      <td>Bibb, Alabama</td>\n",
       "      <td>323.6</td>\n",
       "      <td>466.1</td>\n",
       "      <td>...</td>\n",
       "      <td>584.0</td>\n",
       "      <td>1603.0</td>\n",
       "      <td>1754.0</td>\n",
       "      <td>3433.0</td>\n",
       "      <td>2638.236357</td>\n",
       "      <td>7241.597398</td>\n",
       "      <td>7923.744127</td>\n",
       "      <td>1461.872064</td>\n",
       "      <td>15508.673654</td>\n",
       "      <td>0.256212</td>\n",
       "    </tr>\n",
       "    <tr>\n",
       "      <th>4</th>\n",
       "      <td>33.980867</td>\n",
       "      <td>-86.567371</td>\n",
       "      <td>01009</td>\n",
       "      <td>Blount County, Alabama</td>\n",
       "      <td>Browns Ferry Nuclear Plant</td>\n",
       "      <td>59.0</td>\n",
       "      <td>3567.5</td>\n",
       "      <td>Blount, Alabama</td>\n",
       "      <td>283.6</td>\n",
       "      <td>438.7</td>\n",
       "      <td>...</td>\n",
       "      <td>1742.0</td>\n",
       "      <td>4028.0</td>\n",
       "      <td>4638.0</td>\n",
       "      <td>9075.0</td>\n",
       "      <td>3009.727189</td>\n",
       "      <td>6959.346222</td>\n",
       "      <td>8013.269061</td>\n",
       "      <td>489.987733</td>\n",
       "      <td>15679.261908</td>\n",
       "      <td>1.024849</td>\n",
       "    </tr>\n",
       "  </tbody>\n",
       "</table>\n",
       "<p>5 rows × 41 columns</p>\n",
       "</div>"
      ],
      "text/plain": [
       "    latitude  longitude  GEOID             County_State  \\\n",
       "0  32.534920 -86.642749  01001  Autauga County, Alabama   \n",
       "1  30.660970 -87.749840  01003  Baldwin County, Alabama   \n",
       "2  31.869603 -85.393197  01005  Barbour County, Alabama   \n",
       "3  32.998644 -87.126439  01007     Bibb County, Alabama   \n",
       "4  33.980867 -86.567371  01009   Blount County, Alabama   \n",
       "\n",
       "                    closest_plant  distance  plant_capacity            County  \\\n",
       "0  Joseph M. Farley Nuclear Plant     128.0          1776.4  Autauga, Alabama   \n",
       "1  Joseph M. Farley Nuclear Plant     161.0          1776.4  Baldwin, Alabama   \n",
       "2  Joseph M. Farley Nuclear Plant      48.0          1776.4  Barbour, Alabama   \n",
       "3      Browns Ferry Nuclear Plant     118.0          3567.5     Bibb, Alabama   \n",
       "4      Browns Ferry Nuclear Plant      59.0          3567.5   Blount, Alabama   \n",
       "\n",
       "   cardio_death  total_cancer  ...  pediatric_asthma  adult_asthma     COPD  \\\n",
       "0         263.9         506.4  ...            1718.0        3906.0   4274.0   \n",
       "1         241.9         455.7  ...            6393.0       16246.0  19461.0   \n",
       "2         351.2         447.2  ...             664.0        1760.0   2001.0   \n",
       "3         323.6         466.1  ...             584.0        1603.0   1754.0   \n",
       "4         283.6         438.7  ...            1742.0        4028.0   4638.0   \n",
       "\n",
       "   adult_chronic_lung_disease  pediatric_asthma_per_100k  \\\n",
       "0                      8657.0                3059.934099   \n",
       "1                     36546.0                2788.208664   \n",
       "2                      3855.0                2700.394485   \n",
       "3                      3433.0                2638.236357   \n",
       "4                      9075.0                3009.727189   \n",
       "\n",
       "   adult_asthma_per_100k  COPD_per_100k  cardio_death_per_100k  \\\n",
       "0            6956.986375    7612.432095             470.032950   \n",
       "1            7085.443135    8487.615957             105.500966   \n",
       "2            7157.672130    8137.785188            1428.280939   \n",
       "3            7241.597398    7923.744127            1461.872064   \n",
       "4            6959.346222    8013.269061             489.987733   \n",
       "\n",
       "   adult_chronic_lung_disease_per_100k  cap_over_d2  \n",
       "0                         15419.004364     0.108423  \n",
       "1                         15938.976043     0.068531  \n",
       "2                         15677.742080     0.771007  \n",
       "3                         15508.673654     0.256212  \n",
       "4                         15679.261908     1.024849  \n",
       "\n",
       "[5 rows x 41 columns]"
      ]
     },
     "execution_count": 2,
     "metadata": {},
     "output_type": "execute_result"
    }
   ],
   "source": [
    "nuc_cancer_df = pd.read_csv('../cleaned_data/ML_data_nuc_cancer.csv', dtype={'GEOID': str})\n",
    "nuc_cancer_df.head()"
   ]
  },
  {
   "cell_type": "code",
   "execution_count": 3,
   "id": "213d9dd3",
   "metadata": {},
   "outputs": [
    {
     "data": {
      "text/plain": [
       "Index(['latitude', 'longitude', 'GEOID', 'County_State', 'closest_plant',\n",
       "       'distance', 'plant_capacity', 'County', 'cardio_death', 'total_cancer',\n",
       "       'bladder', 'brain', 'breast', 'breast_insitu', 'cervix', 'colon',\n",
       "       'esophagus', 'kidney_and_renal', 'leukemia', 'liver', 'lung',\n",
       "       'melanoma', 'non-hodgkins_lymphoma', 'oral_cavity', 'ovary', 'pancreas',\n",
       "       'prostate', 'stomach', 'thyroid', 'uterus', 'Total Population',\n",
       "       'pediatric_asthma', 'adult_asthma', 'COPD',\n",
       "       'adult_chronic_lung_disease', 'pediatric_asthma_per_100k',\n",
       "       'adult_asthma_per_100k', 'COPD_per_100k', 'cardio_death_per_100k',\n",
       "       'adult_chronic_lung_disease_per_100k', 'cap_over_d2'],\n",
       "      dtype='object')"
      ]
     },
     "execution_count": 3,
     "metadata": {},
     "output_type": "execute_result"
    }
   ],
   "source": [
    "nuc_cancer_df.columns"
   ]
  },
  {
   "cell_type": "code",
   "execution_count": 4,
   "id": "374b61ad",
   "metadata": {},
   "outputs": [
    {
     "data": {
      "text/html": [
       "<div>\n",
       "<style scoped>\n",
       "    .dataframe tbody tr th:only-of-type {\n",
       "        vertical-align: middle;\n",
       "    }\n",
       "\n",
       "    .dataframe tbody tr th {\n",
       "        vertical-align: top;\n",
       "    }\n",
       "\n",
       "    .dataframe thead th {\n",
       "        text-align: right;\n",
       "    }\n",
       "</style>\n",
       "<table border=\"1\" class=\"dataframe\">\n",
       "  <thead>\n",
       "    <tr style=\"text-align: right;\">\n",
       "      <th></th>\n",
       "      <th>latitude</th>\n",
       "      <th>longitude</th>\n",
       "      <th>distance</th>\n",
       "      <th>plant_capacity</th>\n",
       "      <th>cap_over_d2</th>\n",
       "    </tr>\n",
       "  </thead>\n",
       "  <tbody>\n",
       "    <tr>\n",
       "      <th>0</th>\n",
       "      <td>32.534920</td>\n",
       "      <td>-86.642749</td>\n",
       "      <td>128.0</td>\n",
       "      <td>1776.4</td>\n",
       "      <td>0.108423</td>\n",
       "    </tr>\n",
       "    <tr>\n",
       "      <th>1</th>\n",
       "      <td>30.660970</td>\n",
       "      <td>-87.749840</td>\n",
       "      <td>161.0</td>\n",
       "      <td>1776.4</td>\n",
       "      <td>0.068531</td>\n",
       "    </tr>\n",
       "    <tr>\n",
       "      <th>2</th>\n",
       "      <td>31.869603</td>\n",
       "      <td>-85.393197</td>\n",
       "      <td>48.0</td>\n",
       "      <td>1776.4</td>\n",
       "      <td>0.771007</td>\n",
       "    </tr>\n",
       "    <tr>\n",
       "      <th>3</th>\n",
       "      <td>32.998644</td>\n",
       "      <td>-87.126439</td>\n",
       "      <td>118.0</td>\n",
       "      <td>3567.5</td>\n",
       "      <td>0.256212</td>\n",
       "    </tr>\n",
       "    <tr>\n",
       "      <th>4</th>\n",
       "      <td>33.980867</td>\n",
       "      <td>-86.567371</td>\n",
       "      <td>59.0</td>\n",
       "      <td>3567.5</td>\n",
       "      <td>1.024849</td>\n",
       "    </tr>\n",
       "  </tbody>\n",
       "</table>\n",
       "</div>"
      ],
      "text/plain": [
       "    latitude  longitude  distance  plant_capacity  cap_over_d2\n",
       "0  32.534920 -86.642749     128.0          1776.4     0.108423\n",
       "1  30.660970 -87.749840     161.0          1776.4     0.068531\n",
       "2  31.869603 -85.393197      48.0          1776.4     0.771007\n",
       "3  32.998644 -87.126439     118.0          3567.5     0.256212\n",
       "4  33.980867 -86.567371      59.0          3567.5     1.024849"
      ]
     },
     "execution_count": 4,
     "metadata": {},
     "output_type": "execute_result"
    }
   ],
   "source": [
    "# Define the features set.\n",
    "X = nuc_cancer_df.copy()\n",
    "X = X.drop(['GEOID', 'County_State', 'closest_plant', 'County',\n",
    "        'cardio_death', 'total_cancer', 'bladder', 'brain',\n",
    "       'breast', 'breast_insitu', 'cervix', 'colon', 'esophagus',\n",
    "       'kidney_and_renal', 'leukemia', 'liver', 'lung', 'melanoma',\n",
    "       'non-hodgkins_lymphoma', 'oral_cavity', 'ovary', 'pancreas', 'prostate',\n",
    "       'stomach', 'thyroid', 'uterus', 'pediatric_asthma',\n",
    "       'adult_asthma', 'COPD', 'adult_chronic_lung_disease', 'pediatric_asthma_per_100k',\n",
    "       'adult_asthma_per_100k', 'COPD_per_100k',\n",
    "       'adult_chronic_lung_disease_per_100k', 'Total Population','cardio_death_per_100k'], axis=1)\n",
    "X.head()"
   ]
  },
  {
   "cell_type": "code",
   "execution_count": 5,
   "id": "53b06391",
   "metadata": {},
   "outputs": [
    {
     "data": {
      "text/plain": [
       "0       25.5\n",
       "1       17.6\n",
       "2       22.7\n",
       "3       25.3\n",
       "4       23.5\n",
       "        ... \n",
       "2637    16.6\n",
       "2638     0.0\n",
       "2639     0.0\n",
       "2640     0.0\n",
       "2641     0.0\n",
       "Name: uterus, Length: 2642, dtype: float64"
      ]
     },
     "execution_count": 5,
     "metadata": {},
     "output_type": "execute_result"
    }
   ],
   "source": [
    "# Define the target set.\n",
    "y = nuc_cancer_df[\"uterus\"]\n",
    "y"
   ]
  },
  {
   "cell_type": "code",
   "execution_count": 6,
   "id": "277f882f",
   "metadata": {},
   "outputs": [],
   "source": [
    "# Splitting into Train and Test sets.\n",
    "X_train, X_test, y_train, y_test = train_test_split(X, y, random_state=78)"
   ]
  },
  {
   "cell_type": "code",
   "execution_count": 7,
   "id": "1eed961e",
   "metadata": {},
   "outputs": [],
   "source": [
    "# Creating a StandardScaler instance.\n",
    "scaler = StandardScaler()\n",
    "\n",
    "# Fitting the Standard Scaler with the training data.\n",
    "X_scaler = scaler.fit(X_train)\n",
    "\n",
    "# Scaling the data.\n",
    "X_train_scaled = X_scaler.transform(X_train)\n",
    "X_test_scaled = X_scaler.transform(X_test)"
   ]
  },
  {
   "cell_type": "markdown",
   "id": "46d5f6e2",
   "metadata": {},
   "source": [
    "### Random Forest Model"
   ]
  },
  {
   "cell_type": "code",
   "execution_count": 8,
   "id": "364e811c",
   "metadata": {},
   "outputs": [],
   "source": [
    "# Create a random forest regressor.\n",
    "rf_model = RandomForestRegressor(n_estimators = 1024, random_state = 78)"
   ]
  },
  {
   "cell_type": "code",
   "execution_count": 9,
   "id": "ebf155cf",
   "metadata": {},
   "outputs": [],
   "source": [
    "# Fitting the model\n",
    "rf_model = rf_model.fit(X_train_scaled, y_train)"
   ]
  },
  {
   "cell_type": "code",
   "execution_count": 10,
   "id": "332d3546",
   "metadata": {},
   "outputs": [],
   "source": [
    "# Making predictions using the testing data.\n",
    "predictions = rf_model.predict(X_test_scaled)"
   ]
  },
  {
   "cell_type": "code",
   "execution_count": 11,
   "id": "2340d77e",
   "metadata": {},
   "outputs": [
    {
     "name": "stdout",
     "output_type": "stream",
     "text": [
      "0.910458716647331\n",
      "0.31177163034647315\n"
     ]
    }
   ],
   "source": [
    "print(rf_model.score(X_train_scaled, y_train))\n",
    "print(rf_model.score(X_test_scaled, y_test))"
   ]
  },
  {
   "cell_type": "markdown",
   "id": "33be54b9",
   "metadata": {},
   "source": [
    "### Lasso Model"
   ]
  },
  {
   "cell_type": "code",
   "execution_count": 12,
   "id": "8ce8fa40",
   "metadata": {},
   "outputs": [],
   "source": [
    "# Fit Lasso regression model\n",
    "lasso = Lasso(alpha=0.001)\n",
    "lasso = lasso.fit(X_train_scaled, y_train)"
   ]
  },
  {
   "cell_type": "code",
   "execution_count": 13,
   "id": "7089c516",
   "metadata": {},
   "outputs": [],
   "source": [
    "# Making predictions using the testing data.\n",
    "predictions = lasso.predict(X_test_scaled)"
   ]
  },
  {
   "cell_type": "code",
   "execution_count": 14,
   "id": "25d83d3b",
   "metadata": {},
   "outputs": [
    {
     "name": "stdout",
     "output_type": "stream",
     "text": [
      "0.10889685990720466\n",
      "0.13140374413264233\n"
     ]
    }
   ],
   "source": [
    "print(lasso.score(X_train_scaled, y_train))\n",
    "print(lasso.score(X_test_scaled, y_test))"
   ]
  }
 ],
 "metadata": {
  "kernelspec": {
   "display_name": "mlenv",
   "language": "python",
   "name": "mlenv"
  },
  "language_info": {
   "codemirror_mode": {
    "name": "ipython",
    "version": 3
   },
   "file_extension": ".py",
   "mimetype": "text/x-python",
   "name": "python",
   "nbconvert_exporter": "python",
   "pygments_lexer": "ipython3",
   "version": "3.7.13"
  }
 },
 "nbformat": 4,
 "nbformat_minor": 5
}
